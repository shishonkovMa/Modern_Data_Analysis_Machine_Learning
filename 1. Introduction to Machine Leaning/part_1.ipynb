{
 "cells": [
  {
   "cell_type": "code",
   "execution_count": 1,
   "metadata": {
    "id": "bx-jcoIK1uB1"
   },
   "outputs": [],
   "source": [
    "import numpy as np\n",
    "import pandas as pd\n",
    "import matplotlib.pyplot as plt\n",
    "\n",
    "%matplotlib inline"
   ]
  },
  {
   "cell_type": "markdown",
   "metadata": {
    "id": "PMIyNFO-1uB6"
   },
   "source": [
    "\n",
    "# Part 1. `scikit-learn`  basics\n",
    "\n",
    "[`sklearn`](https://scikit-learn.org/stable/getting_started.html) is a very popular Python library, where plenly of usefull machine learning tools (models, preprocessing methods, etc.) are implemented. \n",
    "\n",
    "We will consider three usefull building-blocks of sklearn:\n",
    "- Estimators \n",
    "- Transformers \n",
    "- Pipeline"
   ]
  },
  {
   "cell_type": "markdown",
   "metadata": {
    "id": "LdMgShyp1uB8"
   },
   "source": [
    "\n",
    "### 1. Estimators\n",
    "\n",
    "Models, aka estimators, are objects which perform model estimation. They have 2 main methods:\n",
    "\n",
    "* Method `fit()`:\n",
    "    - takes as input design matrix `X` and target values `y`\n",
    "    - `X` is supposed to have the shape `(n_samples, n_features)`\n",
    "    - for unsupervised models `y=None` by default\n",
    "    - trains the model (aka finds optimal parameters)\n",
    "    \n",
    "* Method `predict()`:\n",
    "    - takes as input design matrix `X`\n",
    "    - returns predicted target values\n",
    "    - makes sense to use it **after** the `fit()`\n",
    "     "
   ]
  },
  {
   "cell_type": "code",
   "execution_count": 2,
   "metadata": {
    "id": "JRtT2ZJ41uB8",
    "outputId": "910b423f-e667-4f2d-e3b8-92d56c47f07b"
   },
   "outputs": [
    {
     "name": "stdout",
     "output_type": "stream",
     "text": [
      "(2, 3) (2,)\n",
      "(1, 3)\n"
     ]
    }
   ],
   "source": [
    "#Consider toy dataset\n",
    "X = np.array([[ 1,  2,  3], [11, 12, 13]])\n",
    "y = np.array([2.1, 11.9])\n",
    "print(X.shape, y.shape)\n",
    "\n",
    "X_test =  np.array([[ 2, 3, 4]])\n",
    "print(X_test.shape)"
   ]
  },
  {
   "cell_type": "markdown",
   "metadata": {
    "id": "_d3L9d7E1uB9"
   },
   "source": [
    "`LinearRegression()` - is an example of an estimator. You'll find out more about this model next week.\n",
    "\n",
    "\n",
    "Fit linear regression and predict target variable for the test dataset"
   ]
  },
  {
   "cell_type": "code",
   "execution_count": 9,
   "metadata": {
    "id": "NG4RBAZl1uB-"
   },
   "outputs": [
    {
     "data": {
      "text/plain": [
       "array([3.08])"
      ]
     },
     "execution_count": 9,
     "metadata": {},
     "output_type": "execute_result"
    }
   ],
   "source": [
    "from sklearn.linear_model import LinearRegression\n",
    "\n",
    "# Init the model and set all the hyperparameters (if there are any)\n",
    "lr = LinearRegression()\n",
    "\n",
    "# Train the model\n",
    "lr.fit(X, y)\n",
    "\n",
    "# make a prediction\n",
    "lr.predict(X_test)"
   ]
  },
  {
   "cell_type": "markdown",
   "metadata": {
    "id": "Ygqw7O8_1uB-"
   },
   "source": [
    "### 2. Transformers\n",
    "\n",
    "Objects, which are mostly used to pre-process and transform the data. It's interface is very similar to estimators, but they have method `transform` instead of `predict`.\n",
    "\n",
    "     \n",
    "Most sklearn transformers can be found in the following modules:\n",
    "- [sklearn.impute](https://scikit-learn.org/stable/modules/impute.html#impute) --- missing values imputation\n",
    "- [sklearn.preprocessing](https://scikit-learn.org/stable/modules/preprocessing.html#preprocessing) --- scaling, centering, normalization and binarization\n",
    "\n",
    "We will discuss some of them in the course."
   ]
  },
  {
   "cell_type": "markdown",
   "metadata": {
    "id": "6BpFoy2V1uB_"
   },
   "source": [
    "Scale the design matrix `X` usign `StandardScaler`. "
   ]
  },
  {
   "cell_type": "code",
   "execution_count": 12,
   "metadata": {
    "id": "k6CMwQX21uB_"
   },
   "outputs": [
    {
     "name": "stdout",
     "output_type": "stream",
     "text": [
      "[[ 1  2  3]\n",
      " [11 12 13]]\n",
      "[[-1. -1. -1.]\n",
      " [ 1.  1.  1.]]\n"
     ]
    }
   ],
   "source": [
    "from sklearn.preprocessing import StandardScaler\n",
    "# Init, fit and transform\n",
    "sc = StandardScaler()\n",
    "\n",
    "sc.fit(X)\n",
    "print(X)\n",
    "\n",
    "X_transformed = sc.transform(X)\n",
    "print(X_transformed)"
   ]
  },
  {
   "cell_type": "markdown",
   "metadata": {
    "id": "rjWgnDgZ19wh"
   },
   "source": []
  },
  {
   "cell_type": "code",
   "execution_count": 13,
   "metadata": {
    "id": "Cnx4G_fa1uCA"
   },
   "outputs": [
    {
     "data": {
      "text/plain": [
       "array([[-1., -1., -1.],\n",
       "       [ 1.,  1.,  1.]])"
      ]
     },
     "execution_count": 13,
     "metadata": {},
     "output_type": "execute_result"
    }
   ],
   "source": [
    "# the same, but in 1 line\n",
    "sc.fit_transform(X)"
   ]
  },
  {
   "cell_type": "markdown",
   "metadata": {
    "id": "JK7m-yyn1uCA"
   },
   "source": [
    "### 3. Pipelines\n",
    "\n",
    "\n",
    " Usually, we have to apply several transformers to our dataset (e.g. fill in missing values, standartize all the numerical features) before we can train the model:\n",
    "\n",
    "<img src=\"https://i.ibb.co/MpV4bcR/1-ML-pipe.png\" alt=\"1-ML-pipe\" border=\"0\"></a>\n",
    "\n",
    "Recall, that each block here requires calling `fit` and `transorm`/`predict` methods to get an output. \n",
    "\n",
    "`Pipeline` allows us to combine transformers in estimators in one class, so that we can call only one `fit` to train 'em all!\n",
    "<a href=\"https://ibb.co/JKgbF12\"><img src=\"https://i.ibb.co/f2LKGgt/2-ML-pipe.png\" alt=\"2-ML-pipe\" border=\"0\"></a>"
   ]
  },
  {
   "cell_type": "markdown",
   "metadata": {
    "id": "AjM679cs1uCB"
   },
   "source": [
    "Consider the following setting:\n",
    "\n",
    "1. Use Standard Scaler\n",
    "2. Fit linear regression model\n",
    "3. Make prediction on `X_test`\n",
    "\n",
    "With the `Pipeline`:"
   ]
  },
  {
   "cell_type": "code",
   "execution_count": 14,
   "metadata": {
    "id": "HcBSMCPy1uCB",
    "outputId": "fb5577fb-0166-4bc3-af92-4e1c9aa2a5f0"
   },
   "outputs": [
    {
     "data": {
      "text/plain": [
       "array([3.08])"
      ]
     },
     "execution_count": 14,
     "metadata": {},
     "output_type": "execute_result"
    }
   ],
   "source": [
    "from sklearn.pipeline import Pipeline\n",
    "\n",
    "# create a pipeline\n",
    "pipe = Pipeline([\n",
    "    ('scaling', StandardScaler()),\n",
    "    ('regression', LinearRegression())\n",
    "])\n",
    "\n",
    "# fit the whole pipeline\n",
    "pipe.fit(X, y)\n",
    "\n",
    "# we can now use it like any other estimator and make a prediction\n",
    "pipe.predict(X_test)"
   ]
  },
  {
   "cell_type": "markdown",
   "metadata": {
    "id": "MSIjg0OV1uCC"
   },
   "source": [
    "Without the `Pipeline`:"
   ]
  },
  {
   "cell_type": "code",
   "execution_count": 15,
   "metadata": {
    "id": "m9q600F81uCC",
    "outputId": "7390407f-fe7a-4696-d9b0-f394611d60a8"
   },
   "outputs": [
    {
     "data": {
      "text/plain": [
       "array([3.08])"
      ]
     },
     "execution_count": 15,
     "metadata": {},
     "output_type": "execute_result"
    }
   ],
   "source": [
    "# init modela and transformer\n",
    "sc = StandardScaler()\n",
    "lr = LinearRegression()\n",
    "\n",
    "X_transformed = sc.fit_transform(X)\n",
    "lr.fit(X_transformed, y)\n",
    "\n",
    "X_test_transformed = sc.transform(X_test)\n",
    "lr.predict(X_test_transformed)"
   ]
  },
  {
   "cell_type": "markdown",
   "metadata": {
    "id": "yOBEXJZI1uCC"
   },
   "source": [
    "There is much more in `sklearn`, you can read about all the classes and function in the [user guide](https://scikit-learn.org/stable/user_guide.html#user-guide)."
   ]
  }
 ],
 "metadata": {
  "colab": {
   "provenance": []
  },
  "kernelspec": {
   "display_name": "Python 3",
   "language": "python",
   "name": "python3"
  },
  "language_info": {
   "codemirror_mode": {
    "name": "ipython",
    "version": 3
   },
   "file_extension": ".py",
   "mimetype": "text/x-python",
   "name": "python",
   "nbconvert_exporter": "python",
   "pygments_lexer": "ipython3",
   "version": "3.8.10"
  }
 },
 "nbformat": 4,
 "nbformat_minor": 1
}
